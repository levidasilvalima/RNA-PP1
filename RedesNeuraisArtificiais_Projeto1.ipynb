{
  "nbformat": 4,
  "nbformat_minor": 0,
  "metadata": {
    "colab": {
      "name": "RedesNeuraisArtificiais-Projeto1.ipynb",
      "provenance": [],
      "collapsed_sections": [],
      "include_colab_link": true
    },
    "kernelspec": {
      "name": "python3",
      "display_name": "Python 3"
    }
  },
  "cells": [
    {
      "cell_type": "markdown",
      "metadata": {
        "id": "view-in-github",
        "colab_type": "text"
      },
      "source": [
        "<a href=\"https://colab.research.google.com/github/levidasilvalima/RNA-PP1/blob/master/RedesNeuraisArtificiais_Projeto1.ipynb\" target=\"_parent\"><img src=\"https://colab.research.google.com/assets/colab-badge.svg\" alt=\"Open In Colab\"/></a>"
      ]
    },
    {
      "cell_type": "code",
      "metadata": {
        "id": "vZuRfEIdqU2U",
        "colab_type": "code",
        "colab": {}
      },
      "source": [
        "# IMPORTAÇÕES\n",
        "\n",
        "from google.colab import drive\n",
        "import pandas as pd\n",
        "import matplotlib.pyplot as plt\n",
        "import plotly.offline as py\n",
        "import plotly.graph_objects as go\n",
        "import math"
      ],
      "execution_count": 17,
      "outputs": []
    },
    {
      "cell_type": "code",
      "metadata": {
        "id": "6HDW6T6lpAq1",
        "colab_type": "code",
        "colab": {
          "base_uri": "https://localhost:8080/",
          "height": 122
        },
        "outputId": "04a1c6c6-2393-488b-a3af-43293d983ab1"
      },
      "source": [
        "# CRIAÇÃO DO DRIVE\n",
        "\n",
        "drive.mount('/content/drive/')"
      ],
      "execution_count": 2,
      "outputs": [
        {
          "output_type": "stream",
          "text": [
            "Go to this URL in a browser: https://accounts.google.com/o/oauth2/auth?client_id=947318989803-6bn6qk8qdgf4n4g3pfee6491hc0brc4i.apps.googleusercontent.com&redirect_uri=urn%3aietf%3awg%3aoauth%3a2.0%3aoob&response_type=code&scope=email%20https%3a%2f%2fwww.googleapis.com%2fauth%2fdocs.test%20https%3a%2f%2fwww.googleapis.com%2fauth%2fdrive%20https%3a%2f%2fwww.googleapis.com%2fauth%2fdrive.photos.readonly%20https%3a%2f%2fwww.googleapis.com%2fauth%2fpeopleapi.readonly\n",
            "\n",
            "Enter your authorization code:\n",
            "··········\n",
            "Mounted at /content/drive/\n"
          ],
          "name": "stdout"
        }
      ]
    },
    {
      "cell_type": "code",
      "metadata": {
        "id": "QekZ2Tynp4zh",
        "colab_type": "code",
        "colab": {
          "base_uri": "https://localhost:8080/",
          "height": 85
        },
        "outputId": "347a487c-778f-4782-a8c0-2753c9a2e1be"
      },
      "source": [
        "# iMPORTAR CSV\n",
        "\n",
        "df = pd.read_csv('/content/drive/My Drive/Colab Notebooks/Manaus.csv', sep=';', encoding='ISO-8859-1')"
      ],
      "execution_count": 121,
      "outputs": [
        {
          "output_type": "stream",
          "text": [
            "/usr/local/lib/python3.6/dist-packages/IPython/core/interactiveshell.py:2718: DtypeWarning:\n",
            "\n",
            "Columns (12,15,22,24,30,31,32,33,35) have mixed types.Specify dtype option on import or set low_memory=False.\n",
            "\n"
          ],
          "name": "stderr"
        }
      ]
    },
    {
      "cell_type": "code",
      "metadata": {
        "id": "f3G5vOlZp678",
        "colab_type": "code",
        "colab": {
          "base_uri": "https://localhost:8080/",
          "height": 272
        },
        "outputId": "3fb094ec-6432-4433-9d9d-188925fc5a1e"
      },
      "source": [
        "# TÓPICO - 2..1 Visão Geral dos Casos Confirmados\n",
        "\n",
        "filter = df['_classificacao'] == \"Confirmado\"\n",
        "df = df[filter] # Filtrar por casos confirmados\n",
        "print(df.columns.size, \"Valores descrevem cada exemplo\")\n",
        "print(\"Sendo eles: \\n\", df.columns.values)\n",
        "\n",
        "print(\"\\nEm manaus há\", len(df), \"casos confirmados\")\n",
        "\n",
        "ordered = df.sort_values(by='_dt_notificacao', ascending=True)\n",
        "notNullFilter = pd.notnull(ordered[\"_dt_notificacao\"]) \n",
        "ordered = ordered[notNullFilter]\n",
        "initialDate = ordered.head(1)['_dt_notificacao'].values[0]\n",
        "endDate = ordered.iloc[::-1].head(1)['_dt_notificacao'].values[0]\n",
        "print(\"\\nO periodo de tempo da base de dados vai de\", initialDate, \"a\", endDate)\n"
      ],
      "execution_count": 122,
      "outputs": [
        {
          "output_type": "stream",
          "text": [
            "36 Valores descrevem cada exemplo\n",
            "Sendo eles: \n",
            " ['_idade' '_faixa etária' '_sexo' '_bairro' '_classificacao'\n",
            " '_comorb_renal' '_comorb_diabetes' '_comorb_imuno' '_comorb_cardio'\n",
            " '_conclusao' '_dt_notificacao' '_taxa' '_dt_evolucao' '_raca'\n",
            " '_dt_sintomas' '_criterio' '_tipo_teste' '_sintoma_garganta'\n",
            " '_sintoma_dispneia' '_sintoma_febre' '_sintoma_tosse' '_sintoma_outros'\n",
            " '_etnia' '_profiss_saude' '_srag' '_se_notificacao' '_distrito'\n",
            " '_bairro_mapa' '_comorb_respiratoria' '_comorb_cromossomica'\n",
            " '_comorb_hepatica' '_comorb_neurologica' '_comorb_hemato'\n",
            " '_comorb_obessidade' '_origem' '_evolução']\n",
            "\n",
            "Em manaus há 36671 casos confirmados\n",
            "\n",
            "O periodo de tempo da base de dados vai de 01/04/2020 a 31/07/2020\n"
          ],
          "name": "stdout"
        }
      ]
    },
    {
      "cell_type": "code",
      "metadata": {
        "id": "3hsndKIFni7M",
        "colab_type": "code",
        "colab": {
          "base_uri": "https://localhost:8080/",
          "height": 986
        },
        "outputId": "7e4ac3fe-80a5-4ad8-98ac-63a025041724"
      },
      "source": [
        "# # Limpando dataset\n",
        "\n",
        "# df = df.drop(columns=['_comorb_renal', \n",
        "#                       '_comorb_diabetes', \n",
        "#                       '_comorb_imuno', \n",
        "#                       '_comorb_cardio', \n",
        "#                       '_comorb_respiratoria', \n",
        "#                       '_comorb_cromossomica', \n",
        "#                       '_comorb_hepatica', \n",
        "#                       '_comorb_neurologica', \n",
        "#                       '_comorb_hemato', \n",
        "#                       '_comorb_obessidade']) # Apagar atributos relativos a comorbidades\n",
        "# df = df.drop(columns=['_sintoma_garganta', \n",
        "#                       '_sintoma_dispneia', \n",
        "#                       '_sintoma_febre', \n",
        "#                       '_sintoma_tosse', \n",
        "#                       '_sintoma_outros']) # Apagar atributos relativos a sintomas\n",
        "# df = df.drop(columns=['_etnia', '_raca']) # Apagar atributos relativos a etnia\n",
        "# df = df.drop(columns=['_profiss_saude']) # Apagar atributos relativos a profissao\n",
        "# df = df.drop(columns=['_dt_evolucao',\n",
        "#                       '_dt_sintomas']) # Apagar atributos data exceto a de notificação\n",
        "# df = df.drop(columns=['_origem']) # Apagar atributos relativos a origem\n",
        "# df = df.drop(columns=[ '_tipo_teste',\n",
        "#                       '_evolução',\n",
        "#                       # '_bairro',\n",
        "#                       # '_bairro_mapa',\n",
        "#                       '_criterio']) # Apagar atributos desnecessarios\n",
        "# df = df.dropna(subset=df.columns.values) # Apagar linhas com atributos nulos\n",
        "\n",
        "print(\"Apos a limpesa e organização do dataset, há\", len(df), \"exemplos descritos por\", len(df.columns.values), \"atributos cada\\n\")\n",
        "\n",
        "filterRecovered = df['_conclusao'] == \"Recuperado\" # Filtrar por casos recuperados\n",
        "dfRecovered = df[filterRecovered]\n",
        "percent = round((len(dfRecovered)/len(df))*100, 2)\n",
        "print(\"A porcentagem de recuperados é de\", percent, \"% do todo\\n\")\n",
        "labels = 'Curados', 'Nao curados'\n",
        "sizes = [percent, 100-percent] \n",
        "explode = (0.1, 0) \n",
        "fig1, ax1 = plt.subplots()\n",
        "ax1.pie(sizes, explode=explode, labels=labels, autopct='%1.1f%%', shadow=True, startangle=90)  \n",
        "ax1.axis('equal')  \n",
        "plt.show()\n",
        "\n",
        "filterWomen = df['_sexo'] == \"F\" # Filtrar por individuos mulher\n",
        "qtdDfWomen = len(df[filterWomen])\n",
        "filterMen = df['_sexo'] == \"M\" # Filtrar por individuos homem\n",
        "qtdDfmen = len(df[filterMen])\n",
        "print (\"\\nCasos acometidos mais a individuos do sexo masculino\\n\" if qtdDfmen>qtdDfWomen else \"Casos acometidos mais a individuos do sexo feminino\\n\")\n",
        "fig = go.Figure()\n",
        "fig.add_trace(go.Bar(x=['Masculino', 'Feminino'],y=[qtdDfmen,qtdDfWomen ]))\n",
        "fig.update_layout(autosize=False,width=500,height=500,)\n",
        "fig.show()\n",
        "\n",
        "filterCovid = df['_srag'] == \"COVID-19\" # Filtrar por casos de COVID-19\n",
        "dfCovid = df[filterCovid]\n",
        "mean = round(dfCovid[\"_idade\"].mean(),0)\n",
        "standardDeviation = round(dfCovid[\"_idade\"].std(),2)\n",
        "minAge = dfCovid[\"_idade\"].min()\n",
        "maxAge = dfCovid[\"_idade\"].max()\n",
        "print(\"\\nA média e o desvio padrão da idade dos individuos que contrairam COVID-19 é respectivamente:\", mean, \"e\", standardDeviation)\n",
        "print(\"\\nA Menor e a maior idade sao respectivamente\", minAge, \"e\", maxAge, \"anos\")\n",
        "\n",
        "dfBairro = df.groupby([\"_bairro\"]).count()\n",
        "maxOccurence = dfBairro.max()[\"_idade\"]\n",
        "filterMax = dfBairro[\"_idade\"] == maxOccurence\n",
        "bairro = dfBairro[filterMax].index[0]\n",
        "print(\"\\nO bairro com maior ocorrencia de casos é:\", bairro, \"com\", maxOccurence, \"casos\")\n",
        "# df\n",
        "\n",
        "dfBairro = df[filterRecovered]\n",
        "\n",
        "dfBairro = dfBairro.groupby([\"_bairro\", \"_conclusao\"]).count()\n",
        "dfBairro = dfBairro.sort_values(by=\"_idade\", ascending=False).index\n",
        "first = dfBairro[0][0]\n",
        "second = dfBairro[1][0]\n",
        "third = dfBairro[2][0]\n",
        "print(\"Os 3 bairros com maior incidencia de casos recuperados sao respectivamente:\", first, \",\" , second, \"e\" , third)\n",
        "# df.sort_values(by='_dt_notificacao', ascending=True)"
      ],
      "execution_count": 162,
      "outputs": [
        {
          "output_type": "stream",
          "text": [
            "Apos a limpesa e organização do dataset, há 4610 exemplos descritos por 12 atributos cada\n",
            "\n",
            "A porcentagem de recuperados é de 55.86 % do todo\n",
            "\n"
          ],
          "name": "stdout"
        },
        {
          "output_type": "display_data",
          "data": {
            "image/png": "[encoded data removed]",
            "text/plain": [
              "<Figure size 432x288 with 1 Axes>"
            ]
          },
          "metadata": {
            "tags": []
          }
        },
        {
          "output_type": "stream",
          "text": [
            "\n",
            "Casos acometidos mais a individuos do sexo masculino\n",
            "\n"
          ],
          "name": "stdout"
        },
        {
          "output_type": "display_data",
          "data": {
            "text/html": [
              "<html>\n",
              "<head><meta charset=\"utf-8\" /></head>\n",
              "<body>\n",
              "    <div>\n",
              "            <script src=\"https://cdnjs.cloudflare.com/ajax/libs/mathjax/2.7.5/MathJax.js?config=TeX-AMS-MML_SVG\"></script><script type=\"text/javascript\">if (window.MathJax) {MathJax.Hub.Config({SVG: {font: \"STIX-Web\"}});}</script>\n",
              "                <script type=\"text/javascript\">window.PlotlyConfig = {MathJaxConfig: 'local'};</script>\n",
              "        <script src=\"https://cdn.plot.ly/plotly-latest.min.js\"></script>    \n",
              "            <div id=\"ff7d3f9e-eecf-4fbb-b397-1977addf3447\" class=\"plotly-graph-div\" style=\"height:500px; width:500px;\"></div>\n",
              "            <script type=\"text/javascript\">\n",
              "                \n",
              "                    window.PLOTLYENV=window.PLOTLYENV || {};\n",
              "                    \n",
              "                if (document.getElementById(\"ff7d3f9e-eecf-4fbb-b397-1977addf3447\")) {\n",
              "                    Plotly.newPlot(\n",
              "                        'ff7d3f9e-eecf-4fbb-b397-1977addf3447',\n",
              "                        [{\"type\": \"bar\", \"x\": [\"Masculino\", \"Feminino\"], \"y\": [2759, 1851]}],\n",
              "                        {\"autosize\": false, \"height\": 500, \"template\": {\"data\": {\"bar\": [{\"error_x\": {\"color\": \"#2a3f5f\"}, \"error_y\": {\"color\": \"#2a3f5f\"}, \"marker\": {\"line\": {\"color\": \"#E5ECF6\", \"width\": 0.5}}, \"type\": \"bar\"}], \"barpolar\": [{\"marker\": {\"line\": {\"color\": \"#E5ECF6\", \"width\": 0.5}}, \"type\": \"barpolar\"}], \"carpet\": [{\"aaxis\": {\"endlinecolor\": \"#2a3f5f\", \"gridcolor\": \"white\", \"linecolor\": \"white\", \"minorgridcolor\": \"white\", \"startlinecolor\": \"#2a3f5f\"}, \"baxis\": {\"endlinecolor\": \"#2a3f5f\", \"gridcolor\": \"white\", \"linecolor\": \"white\", \"minorgridcolor\": \"white\", \"startlinecolor\": \"#2a3f5f\"}, \"type\": \"carpet\"}], \"choropleth\": [{\"colorbar\": {\"outlinewidth\": 0, \"ticks\": \"\"}, \"type\": \"choropleth\"}], \"contour\": [{\"colorbar\": {\"outlinewidth\": 0, \"ticks\": \"\"}, \"colorscale\": [[0.0, \"#0d0887\"], [0.1111111111111111, \"#46039f\"], [0.2222222222222222, \"#7201a8\"], [0.3333333333333333, \"#9c179e\"], [0.4444444444444444, \"#bd3786\"], [0.5555555555555556, \"#d8576b\"], [0.6666666666666666, \"#ed7953\"], [0.7777777777777778, \"#fb9f3a\"], [0.8888888888888888, \"#fdca26\"], [1.0, \"#f0f921\"]], \"type\": \"contour\"}], \"contourcarpet\": [{\"colorbar\": {\"outlinewidth\": 0, \"ticks\": \"\"}, \"type\": \"contourcarpet\"}], \"heatmap\": [{\"colorbar\": {\"outlinewidth\": 0, \"ticks\": \"\"}, \"colorscale\": [[0.0, \"#0d0887\"], [0.1111111111111111, \"#46039f\"], [0.2222222222222222, \"#7201a8\"], [0.3333333333333333, \"#9c179e\"], [0.4444444444444444, \"#bd3786\"], [0.5555555555555556, \"#d8576b\"], [0.6666666666666666, \"#ed7953\"], [0.7777777777777778, \"#fb9f3a\"], [0.8888888888888888, \"#fdca26\"], [1.0, \"#f0f921\"]], \"type\": \"heatmap\"}], \"heatmapgl\": [{\"colorbar\": {\"outlinewidth\": 0, \"ticks\": \"\"}, \"colorscale\": [[0.0, \"#0d0887\"], [0.1111111111111111, \"#46039f\"], [0.2222222222222222, \"#7201a8\"], [0.3333333333333333, \"#9c179e\"], [0.4444444444444444, \"#bd3786\"], [0.5555555555555556, \"#d8576b\"], [0.6666666666666666, \"#ed7953\"], [0.7777777777777778, \"#fb9f3a\"], [0.8888888888888888, \"#fdca26\"], [1.0, \"#f0f921\"]], \"type\": \"heatmapgl\"}], \"histogram\": [{\"marker\": {\"colorbar\": {\"outlinewidth\": 0, \"ticks\": \"\"}}, \"type\": \"histogram\"}], \"histogram2d\": [{\"colorbar\": {\"outlinewidth\": 0, \"ticks\": \"\"}, \"colorscale\": [[0.0, \"#0d0887\"], [0.1111111111111111, \"#46039f\"], [0.2222222222222222, \"#7201a8\"], [0.3333333333333333, \"#9c179e\"], [0.4444444444444444, \"#bd3786\"], [0.5555555555555556, \"#d8576b\"], [0.6666666666666666, \"#ed7953\"], [0.7777777777777778, \"#fb9f3a\"], [0.8888888888888888, \"#fdca26\"], [1.0, \"#f0f921\"]], \"type\": \"histogram2d\"}], \"histogram2dcontour\": [{\"colorbar\": {\"outlinewidth\": 0, \"ticks\": \"\"}, \"colorscale\": [[0.0, \"#0d0887\"], [0.1111111111111111, \"#46039f\"], [0.2222222222222222, \"#7201a8\"], [0.3333333333333333, \"#9c179e\"], [0.4444444444444444, \"#bd3786\"], [0.5555555555555556, \"#d8576b\"], [0.6666666666666666, \"#ed7953\"], [0.7777777777777778, \"#fb9f3a\"], [0.8888888888888888, \"#fdca26\"], [1.0, \"#f0f921\"]], \"type\": \"histogram2dcontour\"}], \"mesh3d\": [{\"colorbar\": {\"outlinewidth\": 0, \"ticks\": \"\"}, \"type\": \"mesh3d\"}], \"parcoords\": [{\"line\": {\"colorbar\": {\"outlinewidth\": 0, \"ticks\": \"\"}}, \"type\": \"parcoords\"}], \"pie\": [{\"automargin\": true, \"type\": \"pie\"}], \"scatter\": [{\"marker\": {\"colorbar\": {\"outlinewidth\": 0, \"ticks\": \"\"}}, \"type\": \"scatter\"}], \"scatter3d\": [{\"line\": {\"colorbar\": {\"outlinewidth\": 0, \"ticks\": \"\"}}, \"marker\": {\"colorbar\": {\"outlinewidth\": 0, \"ticks\": \"\"}}, \"type\": \"scatter3d\"}], \"scattercarpet\": [{\"marker\": {\"colorbar\": {\"outlinewidth\": 0, \"ticks\": \"\"}}, \"type\": \"scattercarpet\"}], \"scattergeo\": [{\"marker\": {\"colorbar\": {\"outlinewidth\": 0, \"ticks\": \"\"}}, \"type\": \"scattergeo\"}], \"scattergl\": [{\"marker\": {\"colorbar\": {\"outlinewidth\": 0, \"ticks\": \"\"}}, \"type\": \"scattergl\"}], \"scattermapbox\": [{\"marker\": {\"colorbar\": {\"outlinewidth\": 0, \"ticks\": \"\"}}, \"type\": \"scattermapbox\"}], \"scatterpolar\": [{\"marker\": {\"colorbar\": {\"outlinewidth\": 0, \"ticks\": \"\"}}, \"type\": \"scatterpolar\"}], \"scatterpolargl\": [{\"marker\": {\"colorbar\": {\"outlinewidth\": 0, \"ticks\": \"\"}}, \"type\": \"scatterpolargl\"}], \"scatterternary\": [{\"marker\": {\"colorbar\": {\"outlinewidth\": 0, \"ticks\": \"\"}}, \"type\": \"scatterternary\"}], \"surface\": [{\"colorbar\": {\"outlinewidth\": 0, \"ticks\": \"\"}, \"colorscale\": [[0.0, \"#0d0887\"], [0.1111111111111111, \"#46039f\"], [0.2222222222222222, \"#7201a8\"], [0.3333333333333333, \"#9c179e\"], [0.4444444444444444, \"#bd3786\"], [0.5555555555555556, \"#d8576b\"], [0.6666666666666666, \"#ed7953\"], [0.7777777777777778, \"#fb9f3a\"], [0.8888888888888888, \"#fdca26\"], [1.0, \"#f0f921\"]], \"type\": \"surface\"}], \"table\": [{\"cells\": {\"fill\": {\"color\": \"#EBF0F8\"}, \"line\": {\"color\": \"white\"}}, \"header\": {\"fill\": {\"color\": \"#C8D4E3\"}, \"line\": {\"color\": \"white\"}}, \"type\": \"table\"}]}, \"layout\": {\"annotationdefaults\": {\"arrowcolor\": \"#2a3f5f\", \"arrowhead\": 0, \"arrowwidth\": 1}, \"coloraxis\": {\"colorbar\": {\"outlinewidth\": 0, \"ticks\": \"\"}}, \"colorscale\": {\"diverging\": [[0, \"#8e0152\"], [0.1, \"#c51b7d\"], [0.2, \"#de77ae\"], [0.3, \"#f1b6da\"], [0.4, \"#fde0ef\"], [0.5, \"#f7f7f7\"], [0.6, \"#e6f5d0\"], [0.7, \"#b8e186\"], [0.8, \"#7fbc41\"], [0.9, \"#4d9221\"], [1, \"#276419\"]], \"sequential\": [[0.0, \"#0d0887\"], [0.1111111111111111, \"#46039f\"], [0.2222222222222222, \"#7201a8\"], [0.3333333333333333, \"#9c179e\"], [0.4444444444444444, \"#bd3786\"], [0.5555555555555556, \"#d8576b\"], [0.6666666666666666, \"#ed7953\"], [0.7777777777777778, \"#fb9f3a\"], [0.8888888888888888, \"#fdca26\"], [1.0, \"#f0f921\"]], \"sequentialminus\": [[0.0, \"#0d0887\"], [0.1111111111111111, \"#46039f\"], [0.2222222222222222, \"#7201a8\"], [0.3333333333333333, \"#9c179e\"], [0.4444444444444444, \"#bd3786\"], [0.5555555555555556, \"#d8576b\"], [0.6666666666666666, \"#ed7953\"], [0.7777777777777778, \"#fb9f3a\"], [0.8888888888888888, \"#fdca26\"], [1.0, \"#f0f921\"]]}, \"colorway\": [\"#636efa\", \"#EF553B\", \"#00cc96\", \"#ab63fa\", \"#FFA15A\", \"#19d3f3\", \"#FF6692\", \"#B6E880\", \"#FF97FF\", \"#FECB52\"], \"font\": {\"color\": \"#2a3f5f\"}, \"geo\": {\"bgcolor\": \"white\", \"lakecolor\": \"white\", \"landcolor\": \"#E5ECF6\", \"showlakes\": true, \"showland\": true, \"subunitcolor\": \"white\"}, \"hoverlabel\": {\"align\": \"left\"}, \"hovermode\": \"closest\", \"mapbox\": {\"style\": \"light\"}, \"paper_bgcolor\": \"white\", \"plot_bgcolor\": \"#E5ECF6\", \"polar\": {\"angularaxis\": {\"gridcolor\": \"white\", \"linecolor\": \"white\", \"ticks\": \"\"}, \"bgcolor\": \"#E5ECF6\", \"radialaxis\": {\"gridcolor\": \"white\", \"linecolor\": \"white\", \"ticks\": \"\"}}, \"scene\": {\"xaxis\": {\"backgroundcolor\": \"#E5ECF6\", \"gridcolor\": \"white\", \"gridwidth\": 2, \"linecolor\": \"white\", \"showbackground\": true, \"ticks\": \"\", \"zerolinecolor\": \"white\"}, \"yaxis\": {\"backgroundcolor\": \"#E5ECF6\", \"gridcolor\": \"white\", \"gridwidth\": 2, \"linecolor\": \"white\", \"showbackground\": true, \"ticks\": \"\", \"zerolinecolor\": \"white\"}, \"zaxis\": {\"backgroundcolor\": \"#E5ECF6\", \"gridcolor\": \"white\", \"gridwidth\": 2, \"linecolor\": \"white\", \"showbackground\": true, \"ticks\": \"\", \"zerolinecolor\": \"white\"}}, \"shapedefaults\": {\"line\": {\"color\": \"#2a3f5f\"}}, \"ternary\": {\"aaxis\": {\"gridcolor\": \"white\", \"linecolor\": \"white\", \"ticks\": \"\"}, \"baxis\": {\"gridcolor\": \"white\", \"linecolor\": \"white\", \"ticks\": \"\"}, \"bgcolor\": \"#E5ECF6\", \"caxis\": {\"gridcolor\": \"white\", \"linecolor\": \"white\", \"ticks\": \"\"}}, \"title\": {\"x\": 0.05}, \"xaxis\": {\"automargin\": true, \"gridcolor\": \"white\", \"linecolor\": \"white\", \"ticks\": \"\", \"title\": {\"standoff\": 15}, \"zerolinecolor\": \"white\", \"zerolinewidth\": 2}, \"yaxis\": {\"automargin\": true, \"gridcolor\": \"white\", \"linecolor\": \"white\", \"ticks\": \"\", \"title\": {\"standoff\": 15}, \"zerolinecolor\": \"white\", \"zerolinewidth\": 2}}}, \"width\": 500},\n",
              "                        {\"responsive\": true}\n",
              "                    ).then(function(){\n",
              "                            \n",
              "var gd = document.getElementById('ff7d3f9e-eecf-4fbb-b397-1977addf3447');\n",
              "var x = new MutationObserver(function (mutations, observer) {{\n",
              "        var display = window.getComputedStyle(gd).display;\n",
              "        if (!display || display === 'none') {{\n",
              "            console.log([gd, 'removed!']);\n",
              "            Plotly.purge(gd);\n",
              "            observer.disconnect();\n",
              "        }}\n",
              "}});\n",
              "\n",
              "// Listen for the removal of the full notebook cells\n",
              "var notebookContainer = gd.closest('#notebook-container');\n",
              "if (notebookContainer) {{\n",
              "    x.observe(notebookContainer, {childList: true});\n",
              "}}\n",
              "\n",
              "// Listen for the clearing of the current output cell\n",
              "var outputEl = gd.closest('.output');\n",
              "if (outputEl) {{\n",
              "    x.observe(outputEl, {childList: true});\n",
              "}}\n",
              "\n",
              "                        })\n",
              "                };\n",
              "                \n",
              "            </script>\n",
              "        </div>\n",
              "</body>\n",
              "</html>"
            ]
          },
          "metadata": {
            "tags": []
          }
        },
        {
          "output_type": "stream",
          "text": [
            "\n",
            "A média e o desvio padrão da idade dos individuos que contrairam COVID-19 é respectivamente: 57.0 e 19.82\n",
            "\n",
            "A Menor e a maior idade sao respectivamente 0.0 e 106.0 anos\n",
            "\n",
            "O bairro com maior ocorrencia de casos é: CIDADE NOVA com 278 casos\n",
            "Os 3 bairros com maior incidencia de casos recuperados sao respectivamente: CIDADE NOVA , COMPENSA e JORGE TEIXEIRA\n"
          ],
          "name": "stdout"
        }
      ]
    }
  ]
}