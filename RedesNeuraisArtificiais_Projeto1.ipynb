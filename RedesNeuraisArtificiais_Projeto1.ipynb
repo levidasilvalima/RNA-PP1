{
  "nbformat": 4,
  "nbformat_minor": 0,
  "metadata": {
    "colab": {
      "name": "RedesNeuraisArtificiais-Projeto1.ipynb",
      "provenance": [],
      "collapsed_sections": [],
      "include_colab_link": true
    },
    "kernelspec": {
      "name": "python3",
      "display_name": "Python 3"
    }
  },
  "cells": [
    {
      "cell_type": "markdown",
      "metadata": {
        "id": "view-in-github",
        "colab_type": "text"
      },
      "source": [
        "<a href=\"https://colab.research.google.com/github/levidasilvalima/RNA-PP1/blob/master/RedesNeuraisArtificiais_Projeto1.ipynb\" target=\"_parent\"><img src=\"https://colab.research.google.com/assets/colab-badge.svg\" alt=\"Open In Colab\"/></a>"
      ]
    },
    {
      "cell_type": "code",
      "metadata": {
        "id": "vZuRfEIdqU2U",
        "colab_type": "code",
        "colab": {}
      },
      "source": [
        "# IMPORTAÇÕES\n",
        "\n",
        "from google.colab import drive\n",
        "import pandas as pd\n",
        "import matplotlib.pyplot as plt"
      ],
      "execution_count": null,
      "outputs": []
    },
    {
      "cell_type": "code",
      "metadata": {
        "id": "6HDW6T6lpAq1",
        "colab_type": "code",
        "colab": {
          "base_uri": "https://localhost:8080/",
          "height": 122
        },
        "outputId": "c168eb11-a8b7-456c-fe51-106cba927487"
      },
      "source": [
        "# CRIAÇÃO DO DRIVE\n",
        "\n",
        "drive.mount('/content/drive/')"
      ],
      "execution_count": null,
      "outputs": [
        {
          "output_type": "stream",
          "text": [
            "Go to this URL in a browser: https://accounts.google.com/o/oauth2/auth?client_id=947318989803-6bn6qk8qdgf4n4g3pfee6491hc0brc4i.apps.googleusercontent.com&redirect_uri=urn%3aietf%3awg%3aoauth%3a2.0%3aoob&response_type=code&scope=email%20https%3a%2f%2fwww.googleapis.com%2fauth%2fdocs.test%20https%3a%2f%2fwww.googleapis.com%2fauth%2fdrive%20https%3a%2f%2fwww.googleapis.com%2fauth%2fdrive.photos.readonly%20https%3a%2f%2fwww.googleapis.com%2fauth%2fpeopleapi.readonly\n",
            "\n",
            "Enter your authorization code:\n",
            "··········\n",
            "Mounted at /content/drive/\n"
          ],
          "name": "stdout"
        }
      ]
    },
    {
      "cell_type": "code",
      "metadata": {
        "id": "QekZ2Tynp4zh",
        "colab_type": "code",
        "colab": {
          "base_uri": "https://localhost:8080/",
          "height": 51
        },
        "outputId": "d08955c7-c7d9-422e-ca11-3ed75db836f1"
      },
      "source": [
        "# iMPORTAR CSV\n",
        "\n",
        "df = pd.read_csv('/content/drive/My Drive/Colab Notebooks/Manaus.csv', sep=';', encoding='ISO-8859-1')"
      ],
      "execution_count": 73,
      "outputs": [
        {
          "output_type": "stream",
          "text": [
            "/usr/local/lib/python3.6/dist-packages/IPython/core/interactiveshell.py:2718: DtypeWarning: Columns (12,15,22,24,30,31,32,33,35) have mixed types.Specify dtype option on import or set low_memory=False.\n",
            "  interactivity=interactivity, compiler=compiler, result=result)\n"
          ],
          "name": "stderr"
        }
      ]
    },
    {
      "cell_type": "code",
      "metadata": {
        "id": "f3G5vOlZp678",
        "colab_type": "code",
        "colab": {
          "base_uri": "https://localhost:8080/",
          "height": 272
        },
        "outputId": "a8027593-801c-4713-e971-4a05a04e240b"
      },
      "source": [
        "# TÓPICO - 2..1 Visão Geral dos Casos Confirmados\n",
        "\n",
        "filter = df['_classificacao'] == \"Confirmado\"\n",
        "df = df[filter]\n",
        "print(df.columns.size, \"Valores descrevem cada exemplo\")\n",
        "print(\"Sendo eles: \\n\", df.columns.values)\n",
        "\n",
        "print(\"\\nEm manaus há\", len(df), \"casos confirmados\")\n",
        "\n",
        "ordered = df.sort_values(by='_dt_notificacao', ascending=True)\n",
        "notNullFilter = pd.notnull(ordered[\"_dt_notificacao\"]) \n",
        "ordered = ordered[notNullFilter]\n",
        "initialDate = ordered.head(1)['_dt_notificacao'].values[0]\n",
        "endDate = ordered.iloc[::-1].head(1)['_dt_notificacao'].values[0]\n",
        "print(\"\\nO periodo de tempo da base de dados vai de\", initialDate, \"a\", endDate)\n"
      ],
      "execution_count": 186,
      "outputs": [
        {
          "output_type": "stream",
          "text": [
            "36 Valores descrevem cada exemplo\n",
            "Sendo eles: \n",
            " ['_idade' '_faixa etária' '_sexo' '_bairro' '_classificacao'\n",
            " '_comorb_renal' '_comorb_diabetes' '_comorb_imuno' '_comorb_cardio'\n",
            " '_conclusao' '_dt_notificacao' '_taxa' '_dt_evolucao' '_raca'\n",
            " '_dt_sintomas' '_criterio' '_tipo_teste' '_sintoma_garganta'\n",
            " '_sintoma_dispneia' '_sintoma_febre' '_sintoma_tosse' '_sintoma_outros'\n",
            " '_etnia' '_profiss_saude' '_srag' '_se_notificacao' '_distrito'\n",
            " '_bairro_mapa' '_comorb_respiratoria' '_comorb_cromossomica'\n",
            " '_comorb_hepatica' '_comorb_neurologica' '_comorb_hemato'\n",
            " '_comorb_obessidade' '_origem' '_evolução']\n",
            "\n",
            "Em manaus há 36671 casos confirmados\n",
            "\n",
            "O periodo de tempo da base de dados vai de 01/04/2020 a 31/07/2020\n"
          ],
          "name": "stdout"
        }
      ]
    }
  ]
}